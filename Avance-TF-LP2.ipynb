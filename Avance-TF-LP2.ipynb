{
 "cells": [
  {
   "cell_type": "code",
   "execution_count": 1,
   "id": "82757f7c",
   "metadata": {},
   "outputs": [
    {
     "name": "stdout",
     "output_type": "stream",
     "text": [
      "Requirement already satisfied: selenium in c:\\users\\lizeth villanueva\\anaconda3\\lib\\site-packages (4.3.0)\n",
      "Requirement already satisfied: trio~=0.17 in c:\\users\\lizeth villanueva\\anaconda3\\lib\\site-packages (from selenium) (0.21.0)\n",
      "Requirement already satisfied: trio-websocket~=0.9 in c:\\users\\lizeth villanueva\\anaconda3\\lib\\site-packages (from selenium) (0.9.2)\n",
      "Requirement already satisfied: urllib3[secure,socks]~=1.26 in c:\\users\\lizeth villanueva\\anaconda3\\lib\\site-packages (from selenium) (1.26.9)\n",
      "Requirement already satisfied: attrs>=19.2.0 in c:\\users\\lizeth villanueva\\anaconda3\\lib\\site-packages (from trio~=0.17->selenium) (21.4.0)\n",
      "Requirement already satisfied: cffi>=1.14 in c:\\users\\lizeth villanueva\\anaconda3\\lib\\site-packages (from trio~=0.17->selenium) (1.15.0)\n",
      "Requirement already satisfied: sniffio in c:\\users\\lizeth villanueva\\anaconda3\\lib\\site-packages (from trio~=0.17->selenium) (1.2.0)\n",
      "Requirement already satisfied: idna in c:\\users\\lizeth villanueva\\anaconda3\\lib\\site-packages (from trio~=0.17->selenium) (3.3)\n",
      "Requirement already satisfied: sortedcontainers in c:\\users\\lizeth villanueva\\anaconda3\\lib\\site-packages (from trio~=0.17->selenium) (2.4.0)\n",
      "Requirement already satisfied: async-generator>=1.9 in c:\\users\\lizeth villanueva\\anaconda3\\lib\\site-packages (from trio~=0.17->selenium) (1.10)\n",
      "Requirement already satisfied: outcome in c:\\users\\lizeth villanueva\\anaconda3\\lib\\site-packages (from trio~=0.17->selenium) (1.2.0)\n",
      "Requirement already satisfied: pycparser in c:\\users\\lizeth villanueva\\anaconda3\\lib\\site-packages (from cffi>=1.14->trio~=0.17->selenium) (2.21)\n",
      "Requirement already satisfied: wsproto>=0.14 in c:\\users\\lizeth villanueva\\anaconda3\\lib\\site-packages (from trio-websocket~=0.9->selenium) (1.1.0)\n",
      "Requirement already satisfied: PySocks!=1.5.7,<2.0,>=1.5.6 in c:\\users\\lizeth villanueva\\anaconda3\\lib\\site-packages (from urllib3[secure,socks]~=1.26->selenium) (1.7.1)\n",
      "Requirement already satisfied: cryptography>=1.3.4 in c:\\users\\lizeth villanueva\\anaconda3\\lib\\site-packages (from urllib3[secure,socks]~=1.26->selenium) (3.4.8)\n",
      "Requirement already satisfied: certifi in c:\\users\\lizeth villanueva\\anaconda3\\lib\\site-packages (from urllib3[secure,socks]~=1.26->selenium) (2021.10.8)\n",
      "Requirement already satisfied: pyOpenSSL>=0.14 in c:\\users\\lizeth villanueva\\anaconda3\\lib\\site-packages (from urllib3[secure,socks]~=1.26->selenium) (21.0.0)\n",
      "Requirement already satisfied: six>=1.5.2 in c:\\users\\lizeth villanueva\\anaconda3\\lib\\site-packages (from pyOpenSSL>=0.14->urllib3[secure,socks]~=1.26->selenium) (1.16.0)\n",
      "Requirement already satisfied: h11<1,>=0.9.0 in c:\\users\\lizeth villanueva\\anaconda3\\lib\\site-packages (from wsproto>=0.14->trio-websocket~=0.9->selenium) (0.13.0)\n",
      "Requirement already satisfied: webdriver_manager in c:\\users\\lizeth villanueva\\anaconda3\\lib\\site-packages (3.8.3)\n",
      "Requirement already satisfied: python-dotenv in c:\\users\\lizeth villanueva\\anaconda3\\lib\\site-packages (from webdriver_manager) (0.20.0)\n",
      "Requirement already satisfied: requests in c:\\users\\lizeth villanueva\\anaconda3\\lib\\site-packages (from webdriver_manager) (2.27.1)\n",
      "Requirement already satisfied: tqdm in c:\\users\\lizeth villanueva\\anaconda3\\lib\\site-packages (from webdriver_manager) (4.64.0)\n",
      "Requirement already satisfied: urllib3<1.27,>=1.21.1 in c:\\users\\lizeth villanueva\\anaconda3\\lib\\site-packages (from requests->webdriver_manager) (1.26.9)\n",
      "Requirement already satisfied: certifi>=2017.4.17 in c:\\users\\lizeth villanueva\\anaconda3\\lib\\site-packages (from requests->webdriver_manager) (2021.10.8)\n",
      "Requirement already satisfied: idna<4,>=2.5 in c:\\users\\lizeth villanueva\\anaconda3\\lib\\site-packages (from requests->webdriver_manager) (3.3)\n",
      "Requirement already satisfied: charset-normalizer~=2.0.0 in c:\\users\\lizeth villanueva\\anaconda3\\lib\\site-packages (from requests->webdriver_manager) (2.0.4)\n",
      "Requirement already satisfied: colorama in c:\\users\\lizeth villanueva\\anaconda3\\lib\\site-packages (from tqdm->webdriver_manager) (0.4.4)\n",
      "Requirement already satisfied: datetime in c:\\users\\lizeth villanueva\\anaconda3\\lib\\site-packages (4.5)\n",
      "Requirement already satisfied: zope.interface in c:\\users\\lizeth villanueva\\anaconda3\\lib\\site-packages (from datetime) (5.4.0)\n",
      "Requirement already satisfied: pytz in c:\\users\\lizeth villanueva\\anaconda3\\lib\\site-packages (from datetime) (2021.3)\n",
      "Requirement already satisfied: setuptools in c:\\users\\lizeth villanueva\\anaconda3\\lib\\site-packages (from zope.interface->datetime) (61.2.0)\n",
      "Requirement already satisfied: undetected_chromedriver in c:\\users\\lizeth villanueva\\anaconda3\\lib\\site-packages (3.1.5.post4)\n",
      "Requirement already satisfied: websockets in c:\\users\\lizeth villanueva\\anaconda3\\lib\\site-packages (from undetected_chromedriver) (10.3)\n",
      "Requirement already satisfied: selenium>=4.0.0 in c:\\users\\lizeth villanueva\\anaconda3\\lib\\site-packages (from undetected_chromedriver) (4.3.0)\n",
      "Requirement already satisfied: requests in c:\\users\\lizeth villanueva\\anaconda3\\lib\\site-packages (from undetected_chromedriver) (2.27.1)\n",
      "Requirement already satisfied: trio-websocket~=0.9 in c:\\users\\lizeth villanueva\\anaconda3\\lib\\site-packages (from selenium>=4.0.0->undetected_chromedriver) (0.9.2)\n",
      "Requirement already satisfied: urllib3[secure,socks]~=1.26 in c:\\users\\lizeth villanueva\\anaconda3\\lib\\site-packages (from selenium>=4.0.0->undetected_chromedriver) (1.26.9)\n",
      "Requirement already satisfied: trio~=0.17 in c:\\users\\lizeth villanueva\\anaconda3\\lib\\site-packages (from selenium>=4.0.0->undetected_chromedriver) (0.21.0)\n",
      "Requirement already satisfied: attrs>=19.2.0 in c:\\users\\lizeth villanueva\\anaconda3\\lib\\site-packages (from trio~=0.17->selenium>=4.0.0->undetected_chromedriver) (21.4.0)\n",
      "Requirement already satisfied: cffi>=1.14 in c:\\users\\lizeth villanueva\\anaconda3\\lib\\site-packages (from trio~=0.17->selenium>=4.0.0->undetected_chromedriver) (1.15.0)\n",
      "Requirement already satisfied: outcome in c:\\users\\lizeth villanueva\\anaconda3\\lib\\site-packages (from trio~=0.17->selenium>=4.0.0->undetected_chromedriver) (1.2.0)\n",
      "Requirement already satisfied: sniffio in c:\\users\\lizeth villanueva\\anaconda3\\lib\\site-packages (from trio~=0.17->selenium>=4.0.0->undetected_chromedriver) (1.2.0)\n",
      "Requirement already satisfied: async-generator>=1.9 in c:\\users\\lizeth villanueva\\anaconda3\\lib\\site-packages (from trio~=0.17->selenium>=4.0.0->undetected_chromedriver) (1.10)\n",
      "Requirement already satisfied: idna in c:\\users\\lizeth villanueva\\anaconda3\\lib\\site-packages (from trio~=0.17->selenium>=4.0.0->undetected_chromedriver) (3.3)\n",
      "Requirement already satisfied: sortedcontainers in c:\\users\\lizeth villanueva\\anaconda3\\lib\\site-packages (from trio~=0.17->selenium>=4.0.0->undetected_chromedriver) (2.4.0)\n",
      "Requirement already satisfied: pycparser in c:\\users\\lizeth villanueva\\anaconda3\\lib\\site-packages (from cffi>=1.14->trio~=0.17->selenium>=4.0.0->undetected_chromedriver) (2.21)\n",
      "Requirement already satisfied: wsproto>=0.14 in c:\\users\\lizeth villanueva\\anaconda3\\lib\\site-packages (from trio-websocket~=0.9->selenium>=4.0.0->undetected_chromedriver) (1.1.0)\n",
      "Requirement already satisfied: PySocks!=1.5.7,<2.0,>=1.5.6 in c:\\users\\lizeth villanueva\\anaconda3\\lib\\site-packages (from urllib3[secure,socks]~=1.26->selenium>=4.0.0->undetected_chromedriver) (1.7.1)\n",
      "Requirement already satisfied: cryptography>=1.3.4 in c:\\users\\lizeth villanueva\\anaconda3\\lib\\site-packages (from urllib3[secure,socks]~=1.26->selenium>=4.0.0->undetected_chromedriver) (3.4.8)\n",
      "Requirement already satisfied: certifi in c:\\users\\lizeth villanueva\\anaconda3\\lib\\site-packages (from urllib3[secure,socks]~=1.26->selenium>=4.0.0->undetected_chromedriver) (2021.10.8)\n",
      "Requirement already satisfied: pyOpenSSL>=0.14 in c:\\users\\lizeth villanueva\\anaconda3\\lib\\site-packages (from urllib3[secure,socks]~=1.26->selenium>=4.0.0->undetected_chromedriver) (21.0.0)\n",
      "Requirement already satisfied: six>=1.5.2 in c:\\users\\lizeth villanueva\\anaconda3\\lib\\site-packages (from pyOpenSSL>=0.14->urllib3[secure,socks]~=1.26->selenium>=4.0.0->undetected_chromedriver) (1.16.0)\n",
      "Requirement already satisfied: h11<1,>=0.9.0 in c:\\users\\lizeth villanueva\\anaconda3\\lib\\site-packages (from wsproto>=0.14->trio-websocket~=0.9->selenium>=4.0.0->undetected_chromedriver) (0.13.0)\n",
      "Requirement already satisfied: charset-normalizer~=2.0.0 in c:\\users\\lizeth villanueva\\anaconda3\\lib\\site-packages (from requests->undetected_chromedriver) (2.0.4)\n"
     ]
    }
   ],
   "source": [
    "#intalar librerias \n",
    "#----------------------------\n",
    "!pip install selenium\n",
    "!pip install webdriver_manager \n",
    "!pip install datetime\n",
    "!pip install undetected_chromedriver"
   ]
  },
  {
   "cell_type": "code",
   "execution_count": 2,
   "id": "58d47e1c",
   "metadata": {},
   "outputs": [],
   "source": [
    "import pandas as pd # libreria para trabajar con dataframes \n",
    "from selenium import webdriver # importar el driver \n",
    "from time import sleep # para generar el tiempo de espera entre busquedas \n",
    "import lxml\n",
    "from selenium.webdriver.common.keys import Keys # insertar palabras en las busquedas \n",
    "from webdriver_manager.chrome import ChromeDriverManager #importar el instalador del drive \n",
    "from datetime import datetime # para detectar la fecha \n",
    "from selenium.webdriver.chrome.options import Options #agrega las opciones de navegacion en un driver \n",
    "import random # para generar tiempos de espera aleatorios \n",
    "import undetected_chromedriver.v2 as uc"
   ]
  },
  {
   "cell_type": "code",
   "execution_count": 3,
   "id": "9452c97d",
   "metadata": {},
   "outputs": [
    {
     "name": "stderr",
     "output_type": "stream",
     "text": [
      "C:\\Users\\Lizeth Villanueva\\AppData\\Local\\Temp\\ipykernel_12640\\1306580639.py:5: DeprecationWarning: executable_path has been deprecated, please pass in a Service object\n",
      "  browser=webdriver.Chrome(ChromeDriverManager().install(),options=options)# abrir el driver con las opciones descritas previamente\n"
     ]
    }
   ],
   "source": [
    "#Instalar o carga el driver sin tener el ejecutable en la PC\n",
    "options = Options()#opciones del buscador \n",
    "options.add_argument(\"--incognito\")#ventana incognito\n",
    "options.add_argument(\"--start-maximized\")# inicializar la ventana maximizada \n",
    "browser=webdriver.Chrome(ChromeDriverManager().install(),options=options)# abrir el driver con las opciones descritas previamente \n",
    "browser.implicitly_wait(4) #cuando hay algun error para seguir probando y de no solucionarse salta al siguiente comando "
   ]
  },
  {
   "cell_type": "code",
   "execution_count": 4,
   "id": "524ba203",
   "metadata": {},
   "outputs": [
    {
     "name": "stdout",
     "output_type": "stream",
     "text": [
      "Insertar palabra\n",
      "papaya\n",
      "Ingrese el correo para recibir el reporte: davidyacila22@gmail.com\n"
     ]
    }
   ],
   "source": [
    "print(\"Insertar palabra\") \n",
    "palabra=input() # insertar la palabra de busqueda \n",
    "correo= input(\"Ingrese el correo para recibir el reporte: \")\n",
    "\n",
    "#FUNCIÓN DE BUSQUEDA EN TOTTUS ------\n",
    "def tottus(palabra):\n",
    "    browser.get('https://www.tottus.com.pe') #conexión con la página de Tottus \n",
    "    sleep(1) # tiempo de espera de un segundo para cargar la página \n",
    "    c_busqueda=browser.find_element(\"xpath\",\"/html/body/div[1]/div[2]/div[2]/div[1]/div[1]/section/div[1]/div/input\") # se busca el casillero para ingresar la palabra a buscar en el HTML\n",
    "    c_busqueda.send_keys(palabra) # se coloca la palabra de busqueda (se ingresa el producto)\n",
    "    sleep(1) # tiempo de espera cargar la página \n",
    "    browser.find_element(\"xpath\",\"/html/body/div[1]/div[2]/div[2]/div[1]/div[1]/section/div[1]/div/button\").click() # se busca la imagen de lupa para darle click y hacer la busqueda \n",
    "    sleep(1)  # tiempo de espera para cargar la página \n",
    "    lista_prod=[] # se decalara una lista vacia para guardar el nombre de todos los prooductos extraidos \n",
    "    while(1):# se genera un bucle para ir de página en página, si se encuentran varios artículos \n",
    "        try: # para se ejecute cuando no hay ningun incoveniente con la página, cuando no hay errores \n",
    "            pagina=browser.find_element(\"xpath\",\".//ul[@class='jsx-1957748114']\")# se busca al contenedor de todos los productos por página \n",
    "            productos=pagina.find_elements(\"xpath\",\".//li\") # se busca a los contenedores de cada producto, donde esta el precio, el nombre, la imagen y otros detalles.\n",
    "            for producto in productos:# se genera un bucle para extraer la información por producto \n",
    "                info=[]# se declara una lista vacia para almacenar la información por producto \n",
    "                \n",
    "                #salen productos sugeridos en la busqueda que no tienen la palabra buscada en la cadena para ello \n",
    "                #se hace un validador de busqueda\n",
    "                if not palabra.lower() in producto.find_element(\"xpath\",\".//h2\").text.lower(): # se busca la palabra en la cadena extraida para nombre.\n",
    "                    continue # de no encontrarse la palabra, se continua con el siguiente producto \n",
    "                info.append(\"Tottus\") # se adiciona el nombre del supermercado \n",
    "                info.append(producto.find_element(\"xpath\",\".//h2\").text)# se busca el nombre del producto y se adiciona a la lista qeu almacena la información por producto \n",
    "                try: # si se encuentra el precio del producto que se adicione a la lista de detalles del producto \n",
    "                    info.append(float(producto.find_element(\"xpath\",\".//span[@class='list price medium cmrPrice ']\").text.split(\" \")[1]))\n",
    "                    #info.append(producto.find_element(\"xpath\",\".//span[@class='list price medium cmrPrice ']\").text.split(\" \")[2])\n",
    "                except:\n",
    "                    continue\n",
    "                lista_prod.append(info)# adicionar la lista de información del producto \n",
    "                print(info)\n",
    "            browser.find_element(\"xpath\",\".//li[@class='next']\").click()# avanzar a la siguiente página de productos con un click automatico \n",
    "        except: # si no se encuentra el boton para pasar a la siguiente página que se termine el bucle \n",
    "            break \n",
    "    return(lista_prod) # se retorna la tabla que contiene a todos los productos de tottus \n",
    "#tottus(palabra)\n",
    "\n",
    "#FUNCIÓN DE BUSQUEDA EN METRO ------\n",
    "def metro(palabra):\n",
    "    browser.get(\"https://www.metro.pe/\") # se ingresa a la página de metro \n",
    "    sleep(1) # tiempo de espera para cargar la página \n",
    "    c_busqueda=browser.find_element(\"xpath\",\"/html/body/header[1]/div/div[2]/div[2]/div[1]/div[1]/input\") # se busca el casillero para colocar la palabra de busqueda  \n",
    "    c_busqueda.send_keys(palabra) # se ingresa a palabra a buscar \n",
    "    c_busqueda.send_keys(u'\\ue007') # se coloca un enter automático para hacer la busqueda de la palabra \n",
    "    sleep(1)# tiempo de espera para cargar la página\n",
    "    browser.execute_script(\"window.scrollTo(0, document.body.scrollHeight);\") # se realiza un scroll que lleva hasta el ultimo producto de la páginapara que carguen los productos \n",
    "    sleep(7)# tiempo de espera para cargar la página después del scroll \n",
    "    pagina=browser.find_element(\"xpath\",\".//div[@class='product-shelf']\") # Se extrae el contenedor de todos los productos \n",
    "    productos=pagina.find_elements(\"xpath\",\".//li[@layout='19ccd66b-b568-43cb-a106-b52f9796f5cd']\") # se extrae todos los contenedores que posee los detalles de cada producto\n",
    "    lista_prod=[] # lista vacia para almacenar todos los productos \n",
    "    for producto in productos: # bucle para extraer la información por producto \n",
    "        info=[]# lista para almacenar la información por producto \n",
    "        if not palabra.lower() in producto.find_element(\"xpath\",\".//a[@class='product-item__name']\").text.lower(): # se busca validar  que se encuentre la palabra colocada en la cadena extraida\n",
    "             continue # de no enconotrarse, que se pase a la siguiente iteración o producto\n",
    "        info.append(\"Metro\") # agregar el supermercado \n",
    "        info.append(producto.find_element(\"xpath\",\".//a[@class='product-item__name']\").text) # se extrajo el nombre del producto y se adiciona a la lista de detalles \n",
    "        try: #Si se encuentra el precio que se adicione a la lista de detalles \n",
    "            info.append(float(producto.find_element(\"xpath\",\".//span[@class='product-prices__value product-prices__value--best-price']\").text.split(\" \")[1]))\n",
    "        except: # de no entrarse que se pase al siguiente producto \n",
    "            continue\n",
    "        lista_prod.append(info)#se adiciona la información de los productos a la lista general \n",
    "        print(info)\n",
    "    return(lista_prod)# se retorna la lista de productos y su detalle de cada supermercado \n",
    "#metro(palabra)\n",
    "\n",
    "lista_tottus= tottus(palabra) # se ejecuta la función de busqueda en el supermercado tottus \n",
    "lista_metro= metro(palabra)  # se ejecuta la función de busqueda en el supermercado metro"
   ]
  },
  {
   "cell_type": "code",
   "execution_count": null,
   "id": "9ccdfb4e",
   "metadata": {},
   "outputs": [],
   "source": []
  }
 ],
 "metadata": {
  "kernelspec": {
   "display_name": "Python 3 (ipykernel)",
   "language": "python",
   "name": "python3"
  },
  "language_info": {
   "codemirror_mode": {
    "name": "ipython",
    "version": 3
   },
   "file_extension": ".py",
   "mimetype": "text/x-python",
   "name": "python",
   "nbconvert_exporter": "python",
   "pygments_lexer": "ipython3",
   "version": "3.9.12"
  }
 },
 "nbformat": 4,
 "nbformat_minor": 5
}
